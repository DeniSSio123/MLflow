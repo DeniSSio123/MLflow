{
  "nbformat": 4,
  "nbformat_minor": 0,
  "metadata": {
    "colab": {
      "name": "Копия блокнота \"Копия блокнота \"MLflow seminar.ipynb\"\"",
      "provenance": [],
      "collapsed_sections": [],
      "toc_visible": true
    },
    "kernelspec": {
      "name": "python3",
      "display_name": "Python 3"
    }
  },
  "cells": [
    {
      "cell_type": "markdown",
      "metadata": {
        "id": "Lj5Pmooagw0o"
      },
      "source": [
        "# MLflow Project\n",
        "Вам предстоит реализовать модель классификации цветков Ириса в виде MLflow проекта. Для создания MLflow проекта нужна минимум 2 вещи:\n",
        "\n",
        "*   Python модуль, реализующий эксперимент\n",
        "*   `MLProject` файл, содержащий ифнормацию об эксперименте\n",
        "\n",
        "Но для начала установим `mlflow` в Collab"
      ]
    },
    {
      "cell_type": "markdown",
      "metadata": {
        "id": "2ST8qKsv6Q9s"
      },
      "source": [
        "# Новый раздел"
      ]
    },
    {
      "cell_type": "code",
      "metadata": {
        "id": "z8dfs2jbP1DL"
      },
      "source": [
        "import mlflow"
      ],
      "execution_count": null,
      "outputs": []
    },
    {
      "cell_type": "code",
      "metadata": {
        "id": "MRB_F0wGdjdF",
        "colab": {
          "base_uri": "https://localhost:8080/"
        },
        "outputId": "47b87272-8c66-4386-bdc3-3a1ff9245684"
      },
      "source": [
        "!pip install --quiet \"mlflow[extras]\""
      ],
      "execution_count": null,
      "outputs": [
        {
          "output_type": "stream",
          "text": [
            "\u001b[K     |████████████████████████████████| 14.2MB 318kB/s \n",
            "\u001b[K     |████████████████████████████████| 153kB 40.7MB/s \n",
            "\u001b[K     |████████████████████████████████| 1.1MB 42.7MB/s \n",
            "\u001b[K     |████████████████████████████████| 163kB 42.1MB/s \n",
            "\u001b[K     |████████████████████████████████| 81kB 8.4MB/s \n",
            "\u001b[K     |████████████████████████████████| 61kB 6.9MB/s \n",
            "\u001b[K     |████████████████████████████████| 133kB 43.9MB/s \n",
            "\u001b[K     |████████████████████████████████| 2.2MB 36.0MB/s \n",
            "\u001b[K     |████████████████████████████████| 61kB 6.6MB/s \n",
            "\u001b[K     |████████████████████████████████| 1.8MB 41.8MB/s \n",
            "\u001b[K     |████████████████████████████████| 61kB 6.8MB/s \n",
            "\u001b[K     |████████████████████████████████| 81kB 8.7MB/s \n",
            "\u001b[K     |████████████████████████████████| 71kB 8.0MB/s \n",
            "\u001b[K     |████████████████████████████████| 71kB 7.9MB/s \n",
            "\u001b[K     |████████████████████████████████| 7.3MB 31.5MB/s \n",
            "\u001b[K     |████████████████████████████████| 215kB 43.5MB/s \n",
            "\u001b[K     |████████████████████████████████| 727kB 30.4MB/s \n",
            "\u001b[K     |████████████████████████████████| 1.1MB 40.3MB/s \n",
            "\u001b[K     |████████████████████████████████| 61kB 6.6MB/s \n",
            "\u001b[K     |████████████████████████████████| 40kB 4.7MB/s \n",
            "\u001b[K     |████████████████████████████████| 92kB 9.4MB/s \n",
            "\u001b[K     |████████████████████████████████| 102kB 9.7MB/s \n",
            "\u001b[K     |████████████████████████████████| 2.7MB 41.2MB/s \n",
            "\u001b[K     |████████████████████████████████| 92kB 9.6MB/s \n",
            "\u001b[K     |████████████████████████████████| 552kB 34.9MB/s \n",
            "\u001b[K     |████████████████████████████████| 61kB 6.5MB/s \n",
            "\u001b[K     |████████████████████████████████| 143kB 44.2MB/s \n",
            "\u001b[K     |████████████████████████████████| 112kB 44.6MB/s \n",
            "\u001b[K     |████████████████████████████████| 962kB 40.2MB/s \n",
            "\u001b[K     |████████████████████████████████| 71kB 7.1MB/s \n",
            "\u001b[K     |████████████████████████████████| 51kB 5.8MB/s \n",
            "\u001b[K     |████████████████████████████████| 51kB 5.2MB/s \n",
            "\u001b[K     |████████████████████████████████| 552kB 37.3MB/s \n",
            "\u001b[?25h  Building wheel for alembic (setup.py) ... \u001b[?25l\u001b[?25hdone\n",
            "  Building wheel for prometheus-flask-exporter (setup.py) ... \u001b[?25l\u001b[?25hdone\n",
            "  Building wheel for databricks-cli (setup.py) ... \u001b[?25l\u001b[?25hdone\n",
            "  Building wheel for pysftp (setup.py) ... \u001b[?25l\u001b[?25hdone\n",
            "\u001b[31mERROR: botocore 1.20.22 has requirement urllib3<1.27,>=1.25.4, but you'll have urllib3 1.24.3 which is incompatible.\u001b[0m\n"
          ],
          "name": "stdout"
        }
      ]
    },
    {
      "cell_type": "markdown",
      "metadata": {
        "id": "xdBBnOjbtdUx"
      },
      "source": [
        "# Новый раздел"
      ]
    },
    {
      "cell_type": "code",
      "metadata": {
        "id": "sNbegkeLyvaK",
        "colab": {
          "base_uri": "https://localhost:8080/"
        },
        "outputId": "8e5ac1b2-a624-48fa-fdfe-5ddd71935809"
      },
      "source": [
        "!mlflow run -e load_raw_data --no-conda --experiment-name \"Movielens recommendations\" ."
      ],
      "execution_count": null,
      "outputs": [
        {
          "output_type": "stream",
          "text": [
            "INFO: 'Movielens recommendations' does not exist. Creating a new experiment\n",
            "2021/03/08 19:37:26 INFO mlflow.projects.utils: === Created directory /tmp/tmpxx5ikinc for downloading remote URIs passed to arguments of type 'path' ===\n",
            "2021/03/08 19:37:26 INFO mlflow.projects.backend.local: === Running command 'python load_raw_data.py \\\n",
            "  --url=http://files.grouplens.org/datasets/movielens/ml-latest-small.zip \n",
            "' in run with ID 'df81728ba50e4e5e8ca6e83888e8113f' === \n",
            "2021/03/08 19:37:28 INFO mlflow.projects: === Run (ID 'df81728ba50e4e5e8ca6e83888e8113f') succeeded ===\n"
          ],
          "name": "stdout"
        }
      ]
    },
    {
      "cell_type": "code",
      "metadata": {
        "id": "nayvUx8I1y9w",
        "colab": {
          "base_uri": "https://localhost:8080/"
        },
        "outputId": "89518ecc-2cc1-48c3-aaf1-76a2f245cb28"
      },
      "source": [
        "client = mlflow.tracking.MlflowClient()\r\n",
        "client.search_runs(experiment_ids=\"0\")"
      ],
      "execution_count": null,
      "outputs": [
        {
          "output_type": "execute_result",
          "data": {
            "text/plain": [
              "[]"
            ]
          },
          "metadata": {
            "tags": []
          },
          "execution_count": 17
        }
      ]
    },
    {
      "cell_type": "code",
      "metadata": {
        "id": "JTr0Zxw61bZV"
      },
      "source": [
        "experiment = client.get_experiment_by_name(\"Movielens recommendations\")"
      ],
      "execution_count": null,
      "outputs": []
    },
    {
      "cell_type": "code",
      "metadata": {
        "id": "aweE7_re4y5r",
        "colab": {
          "base_uri": "https://localhost:8080/"
        },
        "outputId": "7dde4018-db03-4ef6-cb10-f922baff5975"
      },
      "source": [
        "experiment"
      ],
      "execution_count": null,
      "outputs": [
        {
          "output_type": "execute_result",
          "data": {
            "text/plain": [
              "<Experiment: artifact_location='file:///content/mlruns/1', experiment_id='1', lifecycle_stage='active', name='Movielens recommendations', tags={}>"
            ]
          },
          "metadata": {
            "tags": []
          },
          "execution_count": 11
        }
      ]
    },
    {
      "cell_type": "code",
      "metadata": {
        "colab": {
          "base_uri": "https://localhost:8080/",
          "height": 35
        },
        "id": "okNZgoZbDCO0",
        "outputId": "9098012c-4ecc-4978-8be6-f802fa6dd973"
      },
      "source": [
        "mlflow.get_artifact_uri()"
      ],
      "execution_count": null,
      "outputs": [
        {
          "output_type": "execute_result",
          "data": {
            "application/vnd.google.colaboratory.intrinsic+json": {
              "type": "string"
            },
            "text/plain": [
              "'file:///content/mlruns/0/d1824c5c739c496c96af84b678136f46/artifacts'"
            ]
          },
          "metadata": {
            "tags": []
          },
          "execution_count": 5
        }
      ]
    },
    {
      "cell_type": "code",
      "metadata": {
        "colab": {
          "base_uri": "https://localhost:8080/"
        },
        "id": "LStJDCuyF6fa",
        "outputId": "ead79f3c-436b-49a2-f677-44e1740b9bfb"
      },
      "source": [
        "!mlflow run -e etl_data --no-conda --experiment-name \"Movielens recommendations\" -P ratings_csv='/content/mlruns/1/df81728ba50e4e5e8ca6e83888e8113f/artifacts/ratings.csv' ."
      ],
      "execution_count": null,
      "outputs": [
        {
          "output_type": "stream",
          "text": [
            "2021/03/08 19:37:53 INFO mlflow.projects.utils: === Created directory /tmp/tmpdr062t1y for downloading remote URIs passed to arguments of type 'path' ===\n",
            "2021/03/08 19:37:53 INFO mlflow.projects.backend.local: === Running command 'python etl_data.py \\\n",
            "  --ratings_csv=/content/mlruns/1/df81728ba50e4e5e8ca6e83888e8113f/artifacts/ratings.csv \\\n",
            "  --max_row_limit=10000 \n",
            "' in run with ID '9569bfdeab9e458891dd74be26f1cdd4' === \n",
            "2021/03/08 19:37:55 INFO mlflow.projects: === Run (ID '9569bfdeab9e458891dd74be26f1cdd4') succeeded ===\n"
          ],
          "name": "stdout"
        }
      ]
    },
    {
      "cell_type": "code",
      "metadata": {
        "colab": {
          "base_uri": "https://localhost:8080/"
        },
        "id": "jTZ-FmiM8LPY",
        "outputId": "499a3e47-74d3-42a4-e990-8c6ec0012cec"
      },
      "source": [
        "!mlflow run -e nmf --no-conda --experiment-name \"Movielens recommendations\" -P ratings_data='/content/mlruns/1/9569bfdeab9e458891dd74be26f1cdd4/artifacts/df.parquet.gzip' ."
      ],
      "execution_count": null,
      "outputs": [
        {
          "output_type": "stream",
          "text": [
            "2021/03/08 19:38:14 INFO mlflow.projects.utils: === Created directory /tmp/tmp1_w2ntc_ for downloading remote URIs passed to arguments of type 'path' ===\n",
            "2021/03/08 19:38:14 INFO mlflow.projects.backend.local: === Running command 'python nmf.py \\\n",
            "  --ratings_data=/content/mlruns/1/9569bfdeab9e458891dd74be26f1cdd4/artifacts/df.parquet.gzip \\\n",
            "  --split_prop=0.8 \\\n",
            "  --max_iter=100 \\\n",
            "  --alpha=0.1 \\\n",
            "  --n_components=12\n",
            "' in run with ID 'd139cbef90724925a05f938db5ad3f2b' === \n",
            "2021/03/08 19:38:17 INFO mlflow.projects: === Run (ID 'd139cbef90724925a05f938db5ad3f2b') succeeded ===\n"
          ],
          "name": "stdout"
        }
      ]
    },
    {
      "cell_type": "code",
      "metadata": {
        "colab": {
          "base_uri": "https://localhost:8080/"
        },
        "id": "lcL9pBkHVEdv",
        "outputId": "b4069558-c65e-41b7-e33a-99c9ddfaa198"
      },
      "source": [
        "!mlflow run -e xgboost_model --no-conda --experiment-name \"Movielens recommendations\" -P ratings_data='/content/mlruns/1/9569bfdeab9e458891dd74be26f1cdd4/artifacts/df.parquet.gzip' -P als_model_uri='/content/mlruns/1/d139cbef90724925a05f938db5ad3f2b/artifacts/models/' ."
      ],
      "execution_count": null,
      "outputs": [
        {
          "output_type": "stream",
          "text": [
            "2021/03/08 19:51:38 INFO mlflow.projects.utils: === Created directory /tmp/tmpfdbmg4nf for downloading remote URIs passed to arguments of type 'path' ===\n",
            "2021/03/08 19:51:38 INFO mlflow.projects.backend.local: === Running command 'python xgboost_model.py \\\n",
            "  --ratings_data=/content/mlruns/1/9569bfdeab9e458891dd74be26f1cdd4/artifacts/df.parquet.gzip \\\n",
            "  --als_model_uri=/content/mlruns/1/d139cbef90724925a05f938db5ad3f2b/artifacts/models/ \\\n",
            "  --eta=0.3 \\\n",
            "  --max_depth=6 \\\n",
            "  --num_rounds=10' in run with ID 'e4d3dbbcfdf84b51b5d00456dc25170a' === \n",
            "2021/03/08 19:51:41 INFO mlflow.projects: === Run (ID 'e4d3dbbcfdf84b51b5d00456dc25170a') succeeded ===\n"
          ],
          "name": "stdout"
        }
      ]
    },
    {
      "cell_type": "code",
      "metadata": {
        "colab": {
          "base_uri": "https://localhost:8080/"
        },
        "id": "o7h-hyvLfbhd",
        "outputId": "96be76aa-a14e-4b3a-b071-774882bad513"
      },
      "source": [
        "!mlflow run -e main --no-conda --experiment-name \"Movielens recommendations\" ."
      ],
      "execution_count": null,
      "outputs": [
        {
          "output_type": "stream",
          "text": [
            "2021/03/08 20:21:52 INFO mlflow.projects.utils: === Created directory /tmp/tmpf81bro2_ for downloading remote URIs passed to arguments of type 'path' ===\n",
            "2021/03/08 20:21:52 INFO mlflow.projects.backend.local: === Running command 'python main.py \\\n",
            "  --url=http://files.grouplens.org/datasets/movielens/ml-latest-small.zip ' in run with ID 'ef8d2765b88b4c2dabeeeccdf617dbb8' === \n",
            "2021/03/08 20:21:56 INFO mlflow.projects: === Run (ID 'ef8d2765b88b4c2dabeeeccdf617dbb8') succeeded ===\n"
          ],
          "name": "stdout"
        }
      ]
    },
    {
      "cell_type": "code",
      "metadata": {
        "id": "mMppc3WU6z7n",
        "colab": {
          "base_uri": "https://localhost:8080/"
        },
        "outputId": "fd1da978-e1ca-4eaa-9ead-ded1614194bd"
      },
      "source": [
        "!pip install pyngrok"
      ],
      "execution_count": null,
      "outputs": [
        {
          "output_type": "stream",
          "text": [
            "Collecting pyngrok\n",
            "\u001b[?25l  Downloading https://files.pythonhosted.org/packages/6f/ba/562dc75ca358bdecd8bfa4cdfbd27f750e7d6e46699d3a51bcaa7feb7f3e/pyngrok-5.0.3.tar.gz (743kB)\n",
            "\u001b[K     |████████████████████████████████| 747kB 9.3MB/s \n",
            "\u001b[?25hRequirement already satisfied: PyYAML in /usr/local/lib/python3.7/dist-packages (from pyngrok) (3.13)\n",
            "Building wheels for collected packages: pyngrok\n",
            "  Building wheel for pyngrok (setup.py) ... \u001b[?25l\u001b[?25hdone\n",
            "  Created wheel for pyngrok: filename=pyngrok-5.0.3-cp37-none-any.whl size=18979 sha256=d13cc1320402a56eecec73bd803d8feae6fa76466ab31704a9456785e7e8c005\n",
            "  Stored in directory: /root/.cache/pip/wheels/f0/77/01/d23761888c52099d1817121dc1f28afbc1c7cbf3caac93b1ff\n",
            "Successfully built pyngrok\n",
            "Installing collected packages: pyngrok\n",
            "Successfully installed pyngrok-5.0.3\n"
          ],
          "name": "stdout"
        }
      ]
    },
    {
      "cell_type": "code",
      "metadata": {
        "id": "w28Wc9knTSm0"
      },
      "source": [
        "H = pymodel.components_\r\n",
        "      dtrain = xgb.DMatrix(pymodel.transform(X_train), label=X_train_orig.rating)\r\n",
        "      dtest = xgb.DMatrix(pymodel.transform(X_test_fixed), label=X_test_orig.rating)\r\n",
        "      \r\n",
        "      params = {\r\n",
        "            \"objective\": \"reg:squarederror\",\r\n",
        "            \"max_depth \": args.max_depth ,\r\n",
        "            \"eta\": args.eta,\r\n",
        "            \"seed\": 42,\r\n",
        "        }\r\n",
        "      model = xgb.train(params, dtrain, args.num_rounds)\r\n",
        "\r\n",
        "      # evaluate model\r\n",
        "      y_proba = model.predict(dtest)\r\n",
        "      y_pred = y_proba.argmax(axis=1)\r\n",
        "      mse = mean_squared_error(X_test_orig.rating, model.predict(dtest))\r\n"
      ],
      "execution_count": null,
      "outputs": []
    }
  ]
}